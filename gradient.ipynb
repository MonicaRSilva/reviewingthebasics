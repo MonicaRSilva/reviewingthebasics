{
 "cells": [
  {
   "cell_type": "markdown",
   "id": "e2659444-e125-4f83-a7ff-6ff921afd505",
   "metadata": {},
   "source": [
    "## Gradient descent and gradient ascent\n",
    "\n",
    ">In mathematics, __gradient descent__ (also often called steepest descent) is a first-order iterative optimization algorithm for finding a local minimum of a differentiable function. The idea is to take repeated steps in the opposite direction of the gradient (or approximate gradient) of the function at the current point, because this is the direction of steepest descent. Conversely, stepping in the direction of the gradient will lead to a local maximum of that function; the procedure is then known as __gradient ascent__.\n",
    "\n",
    "Source: __[Wikipedia](https://en.wikipedia.org/wiki/Gradient_descent)__\n",
    "\n",
    "This method can be applied to a function $f(x)$ if it's __[Lipschitz continuous](https://en.wikipedia.org/wiki/Lipschitz_continuity)__, continuous and differentiable in $x$, and it's convex or concave. If it's convex, apply gradient descent. If it's concave, gradient ascent is applied.\n",
    "\n",
    "In machine learning, it's commonly used on liner regression, logistic regression and neural networks."
   ]
  },
  {
   "cell_type": "markdown",
   "id": "3e0f3aab-013b-4576-9b6a-1dc198c62433",
   "metadata": {},
   "source": [
    "### Linear regression example\n",
    "\n",
    "Let's try it on a fish dataset."
   ]
  },
  {
   "cell_type": "code",
   "execution_count": 1,
   "id": "c350cb15-37a9-43f8-9abd-0b40d81a94c7",
   "metadata": {},
   "outputs": [
    {
     "data": {
      "text/plain": [
       "<matplotlib.collections.PathCollection at 0x7fb3f05b4f70>"
      ]
     },
     "execution_count": 1,
     "metadata": {},
     "output_type": "execute_result"
    },
    {
     "data": {
      "image/png": "[encoded data removed]",
      "text/plain": [
       "<Figure size 432x288 with 1 Axes>"
      ]
     },
     "metadata": {
      "needs_background": "light"
     },
     "output_type": "display_data"
    }
   ],
   "source": [
    "import pandas as pd\n",
    "import seaborn as sns\n",
    "import numpy as np\n",
    "import matplotlib.pyplot as plt\n",
    "from sklearn.preprocessing import MinMaxScaler\n",
    "#https://www.kaggle.com/datasets/aungpyaeap/fish-market\n",
    "df = pd.read_csv(\"Fish.csv\")\n",
    "df = df[df[\"Species\"]=='Bream']\n",
    "scaler = MinMaxScaler()\n",
    "plt.scatter(x=df[\"Weight\"], y=df[\"Height\"])"
   ]
  },
  {
   "cell_type": "markdown",
   "id": "45c9c186-1b60-449e-be61-755827056b66",
   "metadata": {},
   "source": [
    "As we can see, there's a positive linear correlation between the two attributes, so we'll be using Weigth and Height for our experiment.\n",
    "\n",
    "The loss function we'll be using is Mean Squared Error, defined as follow:\n",
    "\n",
    "$J(\\theta)=\\frac{1}{2n}\\sum_{i=1}^{n}(h_\\theta(x^{(i)})-y_i)^2$\n",
    "\n",
    "Our hypothesis (linear) is defined as:\n",
    "\n",
    "$h_\\theta(x_i) = \\theta_0 + \\theta_1x_i$ \n",
    "\n",
    "Since our goal is to minimize the cost function, we'll take partial derivatives of the cost function, with regard to our weights theta (gradient descent):\n",
    "\n",
    "$\\frac{\\partial}{\\partial \\theta_0}J(\\theta_0,\\theta_1) = \\frac{1}{n}\\sum_{i=1}^{n}(h_\\theta(x^{(i)})-y_i)$\n",
    "\n",
    "$\\frac{\\partial}{\\partial \\theta_1}J(\\theta_0,\\theta_1) = \\frac{1}{n}\\sum_{i=1}^{n}(h_\\theta(x^{(i)})-y_i)x^{(i)}$\n",
    "\n",
    "And this is our weight update function:\n",
    "\n",
    "$\\theta_i := \\theta_i - \\alpha\\frac{\\partial}{\\partial \\theta_0}J(\\theta_0,\\theta_1)$"
   ]
  },
  {
   "cell_type": "code",
   "execution_count": 20,
   "id": "c03994d3-5a38-4aa7-825e-ee1111d8471d",
   "metadata": {},
   "outputs": [
    {
     "data": {
      "text/plain": [
       "[<matplotlib.lines.Line2D at 0x7fb3ef54f5b0>]"
      ]
     },
     "execution_count": 20,
     "metadata": {},
     "output_type": "execute_result"
    },
    {
     "data": {
      "image/png": "[encoded data removed]",
      "text/plain": [
       "<Figure size 432x288 with 1 Axes>"
      ]
     },
     "metadata": {
      "needs_background": "light"
     },
     "output_type": "display_data"
    }
   ],
   "source": [
    "X = scaler.fit_transform(np.array(df[\"Weight\"]).reshape(-1,1))\n",
    "y = np.array(df[\"Height\"]).reshape(-1,1)\n",
    "# scaling the Weigth attribute so our weights don't explode\n",
    "\n",
    "n = len(X)\n",
    "X = np.c_[np.ones(n), X]\n",
    "\n",
    "#initializing our weights with zero\n",
    "theta = np.zeros((X.shape[1],1))\n",
    "alpha = 0.1\n",
    "epochs = 100\n",
    "cost_list = []\n",
    "\n",
    "for _ in range(epochs): \n",
    "    loss = np.dot(X, theta) - y\n",
    "    theta = theta - alpha * np.dot(X.T, loss)/n\n",
    "    cost = np.sum(loss ** 2) / (2*n)\n",
    "    cost_list.append(cost)\n",
    "\n",
    "# plotting the cost over the epochs\n",
    "plt.plot(list(range(epochs)), cost_list, '-r')"
   ]
  },
  {
   "cell_type": "code",
   "execution_count": 3,
   "id": "39d469ad-6b2c-4299-8a9e-bffcf03bb7df",
   "metadata": {},
   "outputs": [
    {
     "data": {
      "text/plain": [
       "[<matplotlib.lines.Line2D at 0x7f34f9d872e0>]"
      ]
     },
     "execution_count": 3,
     "metadata": {},
     "output_type": "execute_result"
    },
    {
     "data": {
      "image/png": "[encoded data removed]",
      "text/plain": [
       "<Figure size 432x288 with 1 Axes>"
      ]
     },
     "metadata": {
      "needs_background": "light"
     },
     "output_type": "display_data"
    }
   ],
   "source": [
    "plt.scatter(X[:,1], y) \n",
    "plt.plot([0,1], np.dot(np.array([[1.,0.],[1.,1.]]),theta), color='red')"
   ]
  },
  {
   "cell_type": "markdown",
   "id": "bd299d52-1abf-4676-8e01-9931f4c76577",
   "metadata": {},
   "source": [
    "We can apply the gradient ascent if we flip the sign of the loss function:\n",
    "\n",
    "$J(\\theta)=-\\frac{1}{2n}\\sum_{i=1}^{n}(h_\\theta(x^{(i)})-y_i)^2$\n",
    "\n",
    "The new partial derivatives of the cost function:\n",
    "\n",
    "$\\frac{\\partial}{\\partial \\theta_0}J(\\theta_0,\\theta_1) = -\\frac{1}{n}\\sum_{i=1}^{n}(h_\\theta(x^{(i)})-y_i)$\n",
    "\n",
    "$\\frac{\\partial}{\\partial \\theta_1}J(\\theta_0,\\theta_1) = -\\frac{1}{n}\\sum_{i=1}^{n}(h_\\theta(x^{(i)})-y_i)x^{(i)}$\n",
    "\n",
    "Weight update function:\n",
    "\n",
    "$\\theta_i := \\theta_i + \\alpha\\frac{\\partial}{\\partial \\theta_0}J(\\theta_0,\\theta_1)$\n",
    "\n"
   ]
  },
  {
   "cell_type": "code",
   "execution_count": 23,
   "id": "5a74b6f1-f05a-4518-b17b-fede93de24ed",
   "metadata": {},
   "outputs": [
    {
     "data": {
      "text/plain": [
       "[<matplotlib.lines.Line2D at 0x7fb3ef483f40>]"
      ]
     },
     "execution_count": 23,
     "metadata": {},
     "output_type": "execute_result"
    },
    {
     "data": {
      "image/png": "[encoded data removed]",
      "text/plain": [
       "<Figure size 432x288 with 1 Axes>"
      ]
     },
     "metadata": {
      "needs_background": "light"
     },
     "output_type": "display_data"
    }
   ],
   "source": [
    "X = scaler.fit_transform(np.array(df[\"Weight\"]).reshape(-1,1))\n",
    "y = np.array(df[\"Height\"]).reshape(-1,1)\n",
    "# scaling the Weigth attribute so our weights don't explode\n",
    "\n",
    "n = len(X)\n",
    "X = np.c_[np.ones(n), X]\n",
    "\n",
    "#initializing our weights with zero\n",
    "theta = np.zeros((X.shape[1],1))\n",
    "alpha = 0.1\n",
    "epochs = 100\n",
    "cost_list = []\n",
    "\n",
    "for _ in range(epochs): \n",
    "    loss = np.dot(X, theta) - y\n",
    "    theta = theta + alpha * -np.dot(X.T, loss)/n # flipped sign here\n",
    "    cost = -np.sum(loss ** 2) / (2*n) # flipped sign here\n",
    "    cost_list.append(cost)\n",
    "\n",
    "# plotting the cost over the epochs\n",
    "plt.plot(list(range(epochs)), cost_list, '-r')"
   ]
  },
  {
   "cell_type": "markdown",
   "id": "063f2775-94b3-47e1-8794-7f7f184d83f7",
   "metadata": {},
   "source": [
    "As with the gradient descent, the cost gets closer to zero over the epochs."
   ]
  },
  {
   "cell_type": "code",
   "execution_count": 24,
   "id": "e9a3873c-7b88-489f-bb16-a7d999563a83",
   "metadata": {},
   "outputs": [
    {
     "data": {
      "text/plain": [
       "[<matplotlib.lines.Line2D at 0x7fb3ef3ebd00>]"
      ]
     },
     "execution_count": 24,
     "metadata": {},
     "output_type": "execute_result"
    },
    {
     "data": {
      "image/png": "[encoded data removed]",
      "text/plain": [
       "<Figure size 432x288 with 1 Axes>"
      ]
     },
     "metadata": {
      "needs_background": "light"
     },
     "output_type": "display_data"
    }
   ],
   "source": [
    "plt.scatter(X[:,1], y) \n",
    "plt.plot([0,1], np.dot(np.array([[1.,0.],[1.,1.]]),theta), color='red')"
   ]
  },
  {
   "cell_type": "markdown",
   "id": "573a373d-af0e-4bcf-8e19-90bb492e19e0",
   "metadata": {},
   "source": [
    "Our regression line after training"
   ]
  },
  {
   "cell_type": "code",
   "execution_count": 4,
   "id": "1e9f7986-52cb-41a4-9196-172ff3cebeb3",
   "metadata": {},
   "outputs": [],
   "source": [
    "# types of gradient descent: stochastic, batch, mini-batch\n",
    "# vanishing/exploding gradients"
   ]
  },
  {
   "cell_type": "markdown",
   "id": "14dd9259-af77-4312-a6ca-c1fcb65ced72",
   "metadata": {},
   "source": [
    "Since gradient descent is more used in machine learning in general, we'll be using it from now on. \n",
    "\n",
    "There basically three forms to calculate the gradient descent:\n",
    "\n",
    "#### Batch Gradient Descent\n",
    "All of the training data is used in each epoch to update the weights. It's the method we've used in our previous examples so far.\n",
    "\n",
    "#### Stochastic Gradient Descent\n",
    "Used in neural networks, or when the dataset is too big to calculate \n",
    "\n",
    "\n",
    "#### Mini-batch Gradient Descent\n",
    "\n",
    "\n"
   ]
  }
 ],
 "metadata": {
  "kernelspec": {
   "display_name": "Python 3 (ipykernel)",
   "language": "python",
   "name": "python3"
  },
  "language_info": {
   "codemirror_mode": {
    "name": "ipython",
    "version": 3
   },
   "file_extension": ".py",
   "mimetype": "text/x-python",
   "name": "python",
   "nbconvert_exporter": "python",
   "pygments_lexer": "ipython3",
   "version": "3.9.7"
  }
 },
 "nbformat": 4,
 "nbformat_minor": 5
}
